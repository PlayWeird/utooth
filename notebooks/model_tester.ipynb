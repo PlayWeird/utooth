{
 "cells": [
  {
   "cell_type": "code",
   "execution_count": null,
   "metadata": {
    "collapsed": true
   },
   "outputs": [],
   "source": "import torch\nimport sys\nsys.path.append('..')  # Add parent directory to path to import from src\n\nfrom src.data.volume_dataloader import CTScanDataModule, CTDataSet\nfrom src.models.unet import UNet\nfrom src.utils import ct_utils\nfrom torch import sigmoid, where, int16\nimport ipywidgets as widgets\nimport numpy as np\n\nDATA_PATH = '/media/gaetano/DATA/DATA_NIFTI_JAWS/'\nCHECKPOINT_PATH = '../outputs/checkpoints/'  # Updated checkpoint path"
  },
  {
   "cell_type": "code",
   "execution_count": 2,
   "outputs": [],
   "source": [
    "dataset = CTDataSet(DATA_PATH)"
   ],
   "metadata": {
    "collapsed": false,
    "pycharm": {
     "name": "#%%\n"
    }
   }
  },
  {
   "cell_type": "code",
   "execution_count": null,
   "outputs": [],
   "source": "# Update this path to point to your specific checkpoint\n# Example: model = UNet.load_from_checkpoint(CHECKPOINT_PATH + 'your_checkpoint.ckpt')\n# Or use an absolute path if the checkpoint is elsewhere\nmodel = UNet.load_from_checkpoint('../outputs/checkpoints/your_checkpoint.ckpt')  # Update this path\nmodel.eval()",
   "metadata": {
    "collapsed": false,
    "pycharm": {
     "name": "#%%\n"
    }
   }
  },
  {
   "cell_type": "code",
   "source": "# Load a sample from the dataset for testing\nsample_idx = 0  # Change this to test different samples\nx, y = dataset[sample_idx]\nprint(f\"Input shape: {x.shape}\")\nprint(f\"Label shape: {y.shape}\")",
   "metadata": {},
   "execution_count": null,
   "outputs": []
  },
  {
   "cell_type": "code",
   "execution_count": 48,
   "outputs": [
    {
     "name": "stdout",
     "output_type": "stream",
     "text": [
      "(75, 75, 75) int64\n"
     ]
    }
   ],
   "source": [
    "y_hat = sigmoid(model(x.unsqueeze(0)))\n",
    "x = x.squeeze(0).numpy()\n",
    "y_hat = y_hat.squeeze(0)\n",
    "y_hat = where(y_hat > 0.5, 1, 0).numpy()\n",
    "y_hat = y_hat.sum(axis=0)\n",
    "print(y_hat.shape, y_hat.dtype)"
   ],
   "metadata": {
    "collapsed": false,
    "pycharm": {
     "name": "#%%\n"
    }
   }
  },
  {
   "cell_type": "code",
   "execution_count": 49,
   "outputs": [
    {
     "name": "stdout",
     "output_type": "stream",
     "text": [
      "(75, 75, 75)\n"
     ]
    }
   ],
   "source": [
    "%matplotlib qt\n",
    "\n",
    "print(y_hat.shape)\n",
    "ct_utils.plot_3d_with_labels(x, y_hat, threshold=1400, transpose=[2, 1, 0], step_size=2)"
   ],
   "metadata": {
    "collapsed": false,
    "pycharm": {
     "name": "#%%\n"
    }
   }
  },
  {
   "cell_type": "code",
   "execution_count": 33,
   "outputs": [],
   "source": [],
   "metadata": {
    "collapsed": false,
    "pycharm": {
     "name": "#%%\n"
    }
   }
  },
  {
   "cell_type": "code",
   "execution_count": 31,
   "outputs": [
    {
     "name": "stdout",
     "output_type": "stream",
     "text": [
      "(75, 75, 75)\n"
     ]
    }
   ],
   "source": [],
   "metadata": {
    "collapsed": false,
    "pycharm": {
     "name": "#%%\n"
    }
   }
  },
  {
   "cell_type": "code",
   "execution_count": null,
   "outputs": [],
   "source": [],
   "metadata": {
    "collapsed": false,
    "pycharm": {
     "name": "#%%\n"
    }
   }
  }
 ],
 "metadata": {
  "kernelspec": {
   "display_name": "Python 3",
   "language": "python",
   "name": "python3"
  },
  "language_info": {
   "codemirror_mode": {
    "name": "ipython",
    "version": 2
   },
   "file_extension": ".py",
   "mimetype": "text/x-python",
   "name": "python",
   "nbconvert_exporter": "python",
   "pygments_lexer": "ipython2",
   "version": "2.7.6"
  }
 },
 "nbformat": 4,
 "nbformat_minor": 0
}